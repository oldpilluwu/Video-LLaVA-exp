{
 "cells": [
  {
   "cell_type": "code",
   "execution_count": 1,
   "id": "4f05f306",
   "metadata": {
    "_cell_guid": "b1076dfc-b9ad-4769-8c92-a6c4dae69d19",
    "_uuid": "8f2839f25d086af736a60e9eeb907d3b93b6e0e5",
    "execution": {
     "iopub.execute_input": "2025-08-09T14:35:48.024528Z",
     "iopub.status.busy": "2025-08-09T14:35:48.024015Z",
     "iopub.status.idle": "2025-08-09T14:35:50.707665Z",
     "shell.execute_reply": "2025-08-09T14:35:50.705880Z"
    },
    "papermill": {
     "duration": 2.690697,
     "end_time": "2025-08-09T14:35:50.709906",
     "exception": false,
     "start_time": "2025-08-09T14:35:48.019209",
     "status": "completed"
    },
    "tags": []
   },
   "outputs": [],
   "source": [
    "# This Python 3 environment comes with many helpful analytics libraries installed\n",
    "# It is defined by the kaggle/python Docker image: https://github.com/kaggle/docker-python\n",
    "# For example, here's several helpful packages to load\n",
    "\n",
    "import numpy as np # linear algebra\n",
    "import pandas as pd # data processing, CSV file I/O (e.g. pd.read_csv)\n",
    "\n",
    "# Input data files are available in the read-only \"../input/\" directory\n",
    "# For example, running this (by clicking run or pressing Shift+Enter) will list all files under the input directory\n",
    "\n",
    "import os\n",
    "for dirname, _, filenames in os.walk('/kaggle/input'):\n",
    "    for filename in filenames:\n",
    "        print(os.path.join(dirname, filename))\n",
    "\n",
    "# You can write up to 20GB to the current directory (/kaggle/working/) that gets preserved as output when you create a version using \"Save & Run All\" \n",
    "# You can also write temporary files to /kaggle/temp/, but they won't be saved outside of the current session"
   ]
  },
  {
   "cell_type": "code",
   "execution_count": 2,
   "id": "de11fa89",
   "metadata": {
    "execution": {
     "iopub.execute_input": "2025-08-09T14:35:50.715577Z",
     "iopub.status.busy": "2025-08-09T14:35:50.715029Z",
     "iopub.status.idle": "2025-08-09T14:35:50.868076Z",
     "shell.execute_reply": "2025-08-09T14:35:50.866134Z"
    },
    "papermill": {
     "duration": 0.158873,
     "end_time": "2025-08-09T14:35:50.870886",
     "exception": false,
     "start_time": "2025-08-09T14:35:50.712013",
     "status": "completed"
    },
    "tags": []
   },
   "outputs": [
    {
     "name": "stdout",
     "output_type": "stream",
     "text": [
      "error: unknown switch `y'\r\n",
      "usage: git clone [<options>] [--] <repo> [<dir>]\r\n",
      "\r\n",
      "    -v, --verbose         be more verbose\r\n",
      "    -q, --quiet           be more quiet\r\n",
      "    --progress            force progress reporting\r\n",
      "    --reject-shallow      don't clone shallow repository\r\n",
      "    -n, --no-checkout     don't create a checkout\r\n",
      "    --bare                create a bare repository\r\n",
      "    --mirror              create a mirror repository (implies bare)\r\n",
      "    -l, --local           to clone from a local repository\r\n",
      "    --no-hardlinks        don't use local hardlinks, always copy\r\n",
      "    -s, --shared          setup as shared repository\r\n",
      "    --recurse-submodules[=<pathspec>]\r\n",
      "                          initialize submodules in the clone\r\n",
      "    --recursive[=<pathspec>]\r\n",
      "                          alias of --recurse-submodules\r\n",
      "    -j, --jobs <n>        number of submodules cloned in parallel\r\n",
      "    --template <template-directory>\r\n",
      "                          directory from which templates will be used\r\n",
      "    --reference <repo>    reference repository\r\n",
      "    --reference-if-able <repo>\r\n",
      "                          reference repository\r\n",
      "    --dissociate          use --reference only while cloning\r\n",
      "    -o, --origin <name>   use <name> instead of 'origin' to track upstream\r\n",
      "    -b, --branch <branch>\r\n",
      "                          checkout <branch> instead of the remote's HEAD\r\n",
      "    -u, --upload-pack <path>\r\n",
      "                          path to git-upload-pack on the remote\r\n",
      "    --depth <depth>       create a shallow clone of that depth\r\n",
      "    --shallow-since <time>\r\n",
      "                          create a shallow clone since a specific time\r\n",
      "    --shallow-exclude <revision>\r\n",
      "                          deepen history of shallow clone, excluding rev\r\n",
      "    --single-branch       clone only one branch, HEAD or --branch\r\n",
      "    --no-tags             don't clone any tags, and make later fetches not to follow them\r\n",
      "    --shallow-submodules  any cloned submodules will be shallow\r\n",
      "    --separate-git-dir <gitdir>\r\n",
      "                          separate git dir from working tree\r\n",
      "    -c, --config <key=value>\r\n",
      "                          set config inside the new repository\r\n",
      "    --server-option <server-specific>\r\n",
      "                          option to transmit\r\n",
      "    -4, --ipv4            use IPv4 addresses only\r\n",
      "    -6, --ipv6            use IPv6 addresses only\r\n",
      "    --filter <args>       object filtering\r\n",
      "    --remote-submodules   any cloned submodules will use their remote-tracking branch\r\n",
      "    --sparse              initialize sparse-checkout file to include only files at root\r\n",
      "\r\n"
     ]
    }
   ],
   "source": [
    "!git clone git@github.com:oldpilluwu/Video-LLaVA-exp.git -y"
   ]
  },
  {
   "cell_type": "code",
   "execution_count": null,
   "id": "7c813dfc",
   "metadata": {
    "papermill": {
     "duration": 0.001703,
     "end_time": "2025-08-09T14:35:50.874929",
     "exception": false,
     "start_time": "2025-08-09T14:35:50.873226",
     "status": "completed"
    },
    "tags": []
   },
   "outputs": [],
   "source": []
  }
 ],
 "metadata": {
  "kaggle": {
   "accelerator": "none",
   "dataSources": [],
   "dockerImageVersionId": 31089,
   "isGpuEnabled": false,
   "isInternetEnabled": true,
   "language": "python",
   "sourceType": "notebook"
  },
  "kernelspec": {
   "display_name": "Python 3",
   "language": "python",
   "name": "python3"
  },
  "language_info": {
   "codemirror_mode": {
    "name": "ipython",
    "version": 3
   },
   "file_extension": ".py",
   "mimetype": "text/x-python",
   "name": "python",
   "nbconvert_exporter": "python",
   "pygments_lexer": "ipython3",
   "version": "3.11.13"
  },
  "papermill": {
   "default_parameters": {},
   "duration": 10.574639,
   "end_time": "2025-08-09T14:35:51.602987",
   "environment_variables": {},
   "exception": null,
   "input_path": "__notebook__.ipynb",
   "output_path": "__notebook__.ipynb",
   "parameters": {},
   "start_time": "2025-08-09T14:35:41.028348",
   "version": "2.6.0"
  }
 },
 "nbformat": 4,
 "nbformat_minor": 5
}
